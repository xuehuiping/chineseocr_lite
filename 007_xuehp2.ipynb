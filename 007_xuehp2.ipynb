{
 "cells": [
  {
   "cell_type": "code",
   "execution_count": 1,
   "id": "46824083",
   "metadata": {},
   "outputs": [
    {
     "name": "stdout",
     "output_type": "stream",
     "text": [
      "make: Entering directory '/home/chenyx/git/chineseocr_lite/psenet/pse'\r\n",
      "g++ -o pse.so -I include  -std=c++11 -O3 -I/home/chenyx/anaconda3/envs/chineseocr_lite/include/python3.6m -I/home/chenyx/anaconda3/envs/chineseocr_lite/include/python3.6m  -Wno-unused-result -Wsign-compare -march=nocona -mtune=haswell -ftree-vectorize -fPIC -fstack-protector-strong -fno-plt -O3 -ffunction-sections -pipe -isystem /home/chenyx/anaconda3/envs/chineseocr_lite/include -fdebug-prefix-map=/tmp/build/80754af9/python_1614113050744/work=/usr/local/src/conda/python-3.6.13 -fdebug-prefix-map=/home/chenyx/anaconda3/envs/chineseocr_lite=/usr/local/src/conda-prefix -fuse-linker-plugin -ffat-lto-objects -flto-partition=none -flto -DNDEBUG -fwrapv -O3 -Wall -L/home/chenyx/anaconda3/envs/chineseocr_lite/lib/python3.6/config-3.6m-x86_64-linux-gnu -L/home/chenyx/anaconda3/envs/chineseocr_lite/lib -lpython3.6m -lpthread -ldl  -lutil -lrt -lm  -Xlinker -export-dynamic pse.cpp --shared -fPIC\r\n",
      "\u001b[01m\u001b[Kg++:\u001b[m\u001b[K \u001b[01;31m\u001b[Kerror: \u001b[m\u001b[Kunrecognized command line option ‘\u001b[01m\u001b[K-fno-plt\u001b[m\u001b[K’\r\n",
      "Makefile:10: recipe for target 'pse.so' failed\r\n",
      "make: *** [pse.so] Error 1\r\n",
      "make: Leaving directory '/home/chenyx/git/chineseocr_lite/psenet/pse'\r\n",
      "Traceback (most recent call last):\r\n",
      "  File \"app.py\", line 12, in <module>\r\n",
      "    from model import text_predict, crnn_handle\r\n",
      "  File \"/home/chenyx/git/chineseocr_lite/model.py\", line 3, in <module>\r\n",
      "    from psenet import PSENet, PSENetHandel\r\n",
      "  File \"/home/chenyx/git/chineseocr_lite/psenet/__init__.py\", line 2, in <module>\r\n",
      "    from .PSENET import PSENetHandel\r\n",
      "  File \"/home/chenyx/git/chineseocr_lite/psenet/PSENET.py\", line 8, in <module>\r\n",
      "    from .pse import decode as pse_decode\r\n",
      "  File \"/home/chenyx/git/chineseocr_lite/psenet/pse/__init__.py\", line 10, in <module>\r\n",
      "    raise RuntimeError('Cannot compile pse: {}'.format(BASE_DIR))\r\n",
      "RuntimeError: Cannot compile pse: /home/chenyx/git/chineseocr_lite/psenet/pse\r\n"
     ]
    }
   ],
   "source": [
    "!python app.py  8080"
   ]
  },
  {
   "cell_type": "code",
   "execution_count": 4,
   "id": "d41e7dff",
   "metadata": {},
   "outputs": [
    {
     "name": "stdout",
     "output_type": "stream",
     "text": [
      "include      Makefile  pse35.pyd  pse.cpp\r\n",
      "__init__.py  ncnn      pse36.pyd  __pycache__\r\n"
     ]
    }
   ],
   "source": [
    "!ls psenet/pse"
   ]
  },
  {
   "cell_type": "markdown",
   "id": "1ff2b238",
   "metadata": {},
   "source": [
    "没有so文件"
   ]
  },
  {
   "cell_type": "code",
   "execution_count": null,
   "id": "e5e3713b",
   "metadata": {},
   "outputs": [],
   "source": []
  }
 ],
 "metadata": {
  "kernelspec": {
   "display_name": "Python 3",
   "language": "python",
   "name": "python3"
  },
  "language_info": {
   "codemirror_mode": {
    "name": "ipython",
    "version": 3
   },
   "file_extension": ".py",
   "mimetype": "text/x-python",
   "name": "python",
   "nbconvert_exporter": "python",
   "pygments_lexer": "ipython3",
   "version": "3.6.13"
  }
 },
 "nbformat": 4,
 "nbformat_minor": 5
}
